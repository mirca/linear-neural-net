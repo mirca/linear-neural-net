{
 "cells": [
  {
   "cell_type": "markdown",
   "metadata": {},
   "source": [
    "# 1. Defining a simple Neural Net for Linear Regression"
   ]
  },
  {
   "cell_type": "markdown",
   "metadata": {},
   "source": [
    "Our goal on this notebook is to model and fit a simple neural net to solve the linear regression problem,\n",
    "i.e., given `n` points on $\\mathbb{R}^{2}$, we need to find the best fit slope and intercept of the \n",
    "line that represent those points.\n",
    "\n",
    "For that, I am going to use the ``keras`` library, since it is one of the most intuitives libraries to work\n",
    "with Neural Nets.\n",
    "\n",
    "Without further due, let's get started by importing some standards Python libraries and building\n",
    "our neural net class wrapping around ``Keras`` functionalities."
   ]
  },
  {
   "cell_type": "code",
   "execution_count": 1,
   "metadata": {},
   "outputs": [],
   "source": [
    "from tqdm import tqdm"
   ]
  },
  {
   "cell_type": "code",
   "execution_count": 45,
   "metadata": {},
   "outputs": [],
   "source": [
    "import numpy as np\n",
    "import matplotlib.pyplot as plt\n",
    "import pandas as pd\n",
    "%matplotlib inline"
   ]
  },
  {
   "cell_type": "code",
   "execution_count": 2,
   "metadata": {},
   "outputs": [
    {
     "name": "stderr",
     "output_type": "stream",
     "text": [
      "Using TensorFlow backend.\n"
     ]
    }
   ],
   "source": [
    "import keras\n",
    "from keras.callbacks import EarlyStopping\n",
    "from keras.models import Sequential\n",
    "from keras.layers import Dense\n",
    "\n",
    "class LinearRegressionNN(object):\n",
    "    \"\"\"This class is a simple wrapper around Keras' API which\n",
    "    is used to implement a Neural Net to perform linear regression.\n",
    "    \"\"\"\n",
    "    \n",
    "    def __init__(self):\n",
    "        # We only need one unit in our neural net. Why?\n",
    "        # That's because one unit contains the exact number of parameters\n",
    "        # to solve our problem: one weight (i.e. the slope) and\n",
    "        # one bias (i.e. the intercept).\n",
    "        # The activation function must be linear in order to build a model for a line.\n",
    "        # I chose kernel_initializer='zeros' because we don't have prior information\n",
    "        # on the slope of the \"true\". If we know, e.g., that the slopes are all positives\n",
    "        # we could use that information by passing a different initializer, 'ones', for example.\n",
    "        self.model = Sequential([Dense(units=1, activation='linear',\n",
    "                                  input_shape=(1,), kernel_initializer='zeros')])\n",
    "        # The mean squared error is perhaps the most classical loss function to\n",
    "        # optimize for, so let's go for it. We could also use 'mae' if we know that\n",
    "        # the dataset contains outliers.\n",
    "        # Additionally, I'm going to choose a high learning rate here since\n",
    "        # the optimization problem is fairly simple.\n",
    "        opt = keras.optimizers.SGD(lr=1.)\n",
    "        self.model.compile(loss='mse', optimizer='sgd', metrics=['mse'])\n",
    "        # To save training time, let's use a callback to stop training as soon\n",
    "        # as our loss function doesn't decrease by more than 1e-4\n",
    "        self.callbacks = [EarlyStopping(monitor='loss', min_delta=1e-4)]\n",
    "    \n",
    "    def fit(self, x, y, epochs=10000, **kwargs):\n",
    "        \"\"\"\n",
    "        Arguments\n",
    "        ---------\n",
    "        x : array\n",
    "            x-coordinate measurements\n",
    "        y : array\n",
    "            y-coordinate measurements\n",
    "        epochs : int\n",
    "            Number of epochs to run the neural net.\n",
    "        \n",
    "        Returns\n",
    "        -------\n",
    "        (slope, intercept) : tuple of floats\n",
    "            The \"best\" slope and intercept.\n",
    "        \"\"\"\n",
    "        self.model.fit(x=x, y=y, epochs=epochs, callbacks=self.callbacks, **kwargs)\n",
    "        return (self.model.get_weights()[0][0][0], self.model.get_weights()[1][0])"
   ]
  },
  {
   "cell_type": "markdown",
   "metadata": {},
   "source": [
    "# 2. Testing the Neural Net on a toy dataset"
   ]
  },
  {
   "cell_type": "markdown",
   "metadata": {},
   "source": [
    "Let's train our neural net model on a simple dataset just to make sure our ``LinearRegressionNN``\n",
    "class does not contain any silly bugs."
   ]
  },
  {
   "cell_type": "code",
   "execution_count": 4,
   "metadata": {},
   "outputs": [
    {
     "data": {
      "text/plain": [
       "[<matplotlib.lines.Line2D at 0x128b365c0>]"
      ]
     },
     "execution_count": 4,
     "metadata": {},
     "output_type": "execute_result"
    },
    {
     "data": {
      "image/png": "[encoded data removed]",
      "text/plain": [
       "<matplotlib.figure.Figure at 0x123b36128>"
      ]
     },
     "metadata": {},
     "output_type": "display_data"
    }
   ],
   "source": [
    "m, b = -3, 2\n",
    "\n",
    "x = np.random.normal(size=10)\n",
    "noise = np.random.normal(scale=1, size=10)\n",
    "y = m * x + b + noise\n",
    "plt.plot(x, y, 'bo')"
   ]
  },
  {
   "cell_type": "code",
   "execution_count": 5,
   "metadata": {},
   "outputs": [],
   "source": [
    "linear_nn = LinearRegressionNN()"
   ]
  },
  {
   "cell_type": "code",
   "execution_count": 6,
   "metadata": {},
   "outputs": [],
   "source": [
    "m_pred, b_pred = linear_nn.fit(x, y, verbose=0)"
   ]
  },
  {
   "cell_type": "code",
   "execution_count": 7,
   "metadata": {},
   "outputs": [
    {
     "data": {
      "text/plain": [
       "[<matplotlib.lines.Line2D at 0x12c09bb70>]"
      ]
     },
     "execution_count": 7,
     "metadata": {},
     "output_type": "execute_result"
    },
    {
     "data": {
      "image/png": "[encoded data removed]",
      "text/plain": [
       "<matplotlib.figure.Figure at 0x12c080f60>"
      ]
     },
     "metadata": {},
     "output_type": "display_data"
    }
   ],
   "source": [
    "plt.plot(x, y, 'ko')\n",
    "plt.plot(x, m * x + b)\n",
    "plt.plot(x, m_pred * x + b_pred)"
   ]
  },
  {
   "cell_type": "markdown",
   "metadata": {},
   "source": [
    "Looks good!"
   ]
  },
  {
   "cell_type": "markdown",
   "metadata": {},
   "source": [
    "# 3. Results on the interview dataset"
   ]
  },
  {
   "cell_type": "code",
   "execution_count": 9,
   "metadata": {},
   "outputs": [],
   "source": [
    "df = pd.read_csv(\"train_100k/train_100k.csv\")"
   ]
  },
  {
   "cell_type": "code",
   "execution_count": 10,
   "metadata": {},
   "outputs": [
    {
     "data": {
      "text/html": [
       "<div>\n",
       "<style>\n",
       "    .dataframe thead tr:only-child th {\n",
       "        text-align: right;\n",
       "    }\n",
       "\n",
       "    .dataframe thead th {\n",
       "        text-align: left;\n",
       "    }\n",
       "\n",
       "    .dataframe tbody tr th {\n",
       "        vertical-align: top;\n",
       "    }\n",
       "</style>\n",
       "<table border=\"1\" class=\"dataframe\">\n",
       "  <thead>\n",
       "    <tr style=\"text-align: right;\">\n",
       "      <th></th>\n",
       "      <th>id</th>\n",
       "      <th>x0</th>\n",
       "      <th>y0</th>\n",
       "      <th>x1</th>\n",
       "      <th>y1</th>\n",
       "      <th>x2</th>\n",
       "      <th>y2</th>\n",
       "      <th>x3</th>\n",
       "      <th>y3</th>\n",
       "      <th>x4</th>\n",
       "      <th>...</th>\n",
       "      <th>x5</th>\n",
       "      <th>y5</th>\n",
       "      <th>x6</th>\n",
       "      <th>y6</th>\n",
       "      <th>x7</th>\n",
       "      <th>y7</th>\n",
       "      <th>x8</th>\n",
       "      <th>y8</th>\n",
       "      <th>x9</th>\n",
       "      <th>y9</th>\n",
       "    </tr>\n",
       "  </thead>\n",
       "  <tbody>\n",
       "    <tr>\n",
       "      <th>0</th>\n",
       "      <td>0</td>\n",
       "      <td>29.379006</td>\n",
       "      <td>-177.906597</td>\n",
       "      <td>66.239362</td>\n",
       "      <td>-143.495070</td>\n",
       "      <td>-107.178287</td>\n",
       "      <td>-338.177166</td>\n",
       "      <td>22.166375</td>\n",
       "      <td>-185.843612</td>\n",
       "      <td>84.694131</td>\n",
       "      <td>...</td>\n",
       "      <td>136.901770</td>\n",
       "      <td>-81.681363</td>\n",
       "      <td>-84.118333</td>\n",
       "      <td>-334.626033</td>\n",
       "      <td>-100.681489</td>\n",
       "      <td>-336.766765</td>\n",
       "      <td>-37.043301</td>\n",
       "      <td>-253.037134</td>\n",
       "      <td>0.695548</td>\n",
       "      <td>-211.044600</td>\n",
       "    </tr>\n",
       "    <tr>\n",
       "      <th>1</th>\n",
       "      <td>1</td>\n",
       "      <td>-42.192600</td>\n",
       "      <td>116.207765</td>\n",
       "      <td>81.428046</td>\n",
       "      <td>-94.915600</td>\n",
       "      <td>-68.070200</td>\n",
       "      <td>154.431135</td>\n",
       "      <td>87.454642</td>\n",
       "      <td>-119.361432</td>\n",
       "      <td>-86.614036</td>\n",
       "      <td>...</td>\n",
       "      <td>-40.894683</td>\n",
       "      <td>123.924804</td>\n",
       "      <td>111.751223</td>\n",
       "      <td>-139.521058</td>\n",
       "      <td>15.587590</td>\n",
       "      <td>-0.594559</td>\n",
       "      <td>-19.313860</td>\n",
       "      <td>70.677833</td>\n",
       "      <td>-53.806709</td>\n",
       "      <td>133.994773</td>\n",
       "    </tr>\n",
       "    <tr>\n",
       "      <th>2</th>\n",
       "      <td>2</td>\n",
       "      <td>-18.796404</td>\n",
       "      <td>329.114854</td>\n",
       "      <td>151.712130</td>\n",
       "      <td>-447.480672</td>\n",
       "      <td>-110.947150</td>\n",
       "      <td>798.737732</td>\n",
       "      <td>105.217794</td>\n",
       "      <td>-173.445516</td>\n",
       "      <td>-55.966933</td>\n",
       "      <td>...</td>\n",
       "      <td>-15.222389</td>\n",
       "      <td>428.073085</td>\n",
       "      <td>250.005691</td>\n",
       "      <td>-768.685467</td>\n",
       "      <td>-2.994061</td>\n",
       "      <td>253.920340</td>\n",
       "      <td>-40.446864</td>\n",
       "      <td>413.669479</td>\n",
       "      <td>-66.874356</td>\n",
       "      <td>487.322412</td>\n",
       "    </tr>\n",
       "    <tr>\n",
       "      <th>3</th>\n",
       "      <td>3</td>\n",
       "      <td>-6.481551</td>\n",
       "      <td>226.761616</td>\n",
       "      <td>-185.217750</td>\n",
       "      <td>737.531205</td>\n",
       "      <td>9.613335</td>\n",
       "      <td>186.972940</td>\n",
       "      <td>-106.689135</td>\n",
       "      <td>490.035371</td>\n",
       "      <td>-151.022795</td>\n",
       "      <td>...</td>\n",
       "      <td>-4.505889</td>\n",
       "      <td>258.659858</td>\n",
       "      <td>-89.331309</td>\n",
       "      <td>489.818816</td>\n",
       "      <td>-8.596002</td>\n",
       "      <td>289.845448</td>\n",
       "      <td>192.360821</td>\n",
       "      <td>-315.923385</td>\n",
       "      <td>154.112777</td>\n",
       "      <td>-189.089460</td>\n",
       "    </tr>\n",
       "    <tr>\n",
       "      <th>4</th>\n",
       "      <td>4</td>\n",
       "      <td>31.330370</td>\n",
       "      <td>217.733186</td>\n",
       "      <td>-118.727553</td>\n",
       "      <td>308.958404</td>\n",
       "      <td>115.202328</td>\n",
       "      <td>127.442284</td>\n",
       "      <td>-8.540804</td>\n",
       "      <td>235.844732</td>\n",
       "      <td>-19.587220</td>\n",
       "      <td>...</td>\n",
       "      <td>-53.328056</td>\n",
       "      <td>267.077917</td>\n",
       "      <td>84.485304</td>\n",
       "      <td>175.295198</td>\n",
       "      <td>-76.208199</td>\n",
       "      <td>273.898265</td>\n",
       "      <td>45.614982</td>\n",
       "      <td>203.163031</td>\n",
       "      <td>-22.831323</td>\n",
       "      <td>251.840567</td>\n",
       "    </tr>\n",
       "  </tbody>\n",
       "</table>\n",
       "<p>5 rows × 21 columns</p>\n",
       "</div>"
      ],
      "text/plain": [
       "   id         x0          y0          x1          y1          x2          y2  \\\n",
       "0   0  29.379006 -177.906597   66.239362 -143.495070 -107.178287 -338.177166   \n",
       "1   1 -42.192600  116.207765   81.428046  -94.915600  -68.070200  154.431135   \n",
       "2   2 -18.796404  329.114854  151.712130 -447.480672 -110.947150  798.737732   \n",
       "3   3  -6.481551  226.761616 -185.217750  737.531205    9.613335  186.972940   \n",
       "4   4  31.330370  217.733186 -118.727553  308.958404  115.202328  127.442284   \n",
       "\n",
       "           x3          y3          x4     ...              x5          y5  \\\n",
       "0   22.166375 -185.843612   84.694131     ...      136.901770  -81.681363   \n",
       "1   87.454642 -119.361432  -86.614036     ...      -40.894683  123.924804   \n",
       "2  105.217794 -173.445516  -55.966933     ...      -15.222389  428.073085   \n",
       "3 -106.689135  490.035371 -151.022795     ...       -4.505889  258.659858   \n",
       "4   -8.540804  235.844732  -19.587220     ...      -53.328056  267.077917   \n",
       "\n",
       "           x6          y6          x7          y7          x8          y8  \\\n",
       "0  -84.118333 -334.626033 -100.681489 -336.766765  -37.043301 -253.037134   \n",
       "1  111.751223 -139.521058   15.587590   -0.594559  -19.313860   70.677833   \n",
       "2  250.005691 -768.685467   -2.994061  253.920340  -40.446864  413.669479   \n",
       "3  -89.331309  489.818816   -8.596002  289.845448  192.360821 -315.923385   \n",
       "4   84.485304  175.295198  -76.208199  273.898265   45.614982  203.163031   \n",
       "\n",
       "           x9          y9  \n",
       "0    0.695548 -211.044600  \n",
       "1  -53.806709  133.994773  \n",
       "2  -66.874356  487.322412  \n",
       "3  154.112777 -189.089460  \n",
       "4  -22.831323  251.840567  \n",
       "\n",
       "[5 rows x 21 columns]"
      ]
     },
     "execution_count": 10,
     "metadata": {},
     "output_type": "execute_result"
    }
   ],
   "source": [
    "df.head()"
   ]
  },
  {
   "cell_type": "markdown",
   "metadata": {},
   "source": [
    "Let's define two functions to normalize the dataset and to transform the fitted parameters from the normalized space to the original space. Normalization of the inputs will considerably\n",
    "aid the optimization, since the initial values of the slope and intercept, in the neural net, are both zero. But we have\n",
    "to be careful to transform back the fitted slope and intercept to the original data space.\n",
    "\n",
    "Let's write a bit of math for completeness. The expression of a line is:"
   ]
  },
  {
   "cell_type": "markdown",
   "metadata": {},
   "source": [
    "$$ y = m \\cdot x + b$$"
   ]
  },
  {
   "cell_type": "markdown",
   "metadata": {},
   "source": [
    "After normalizing the inputs, it follows that:"
   ]
  },
  {
   "cell_type": "markdown",
   "metadata": {},
   "source": [
    "$$ \\dfrac{y - \\bar{y}}{\\sigma_{y}} = m \\cdot \\dfrac{x - \\bar{x}}{\\sigma_x} + b,$$\n",
    "where $\\bar{x}, \\bar{y}$, $\\sigma_x$, and $\\sigma_y$ are the means and standard deviations\n",
    "of $x$ and $y$."
   ]
  },
  {
   "cell_type": "markdown",
   "metadata": {},
   "source": [
    "We could rewrite the above expression as:"
   ]
  },
  {
   "cell_type": "markdown",
   "metadata": {},
   "source": [
    "$$ y = x\\cdot \\left( m \\dfrac{\\sigma_y}{\\sigma_x}\\right) + \\left(\\dfrac{m\\cdot \\bar{x}}{\\sigma_x} + \\sigma_y b +  \\bar{y}\\right)$$"
   ]
  },
  {
   "cell_type": "markdown",
   "metadata": {},
   "source": [
    "Therefore, the slope and the intercept on the original data space are given as:\n",
    "$$ \\mathrm{slope} =  m \\dfrac{\\sigma_y}{\\sigma_x}$$\n",
    "$$ \\mathrm{intercept} = \\dfrac{m\\cdot \\bar{x}}{\\sigma_x} + \\sigma_y b +  \\bar{y}$$"
   ]
  },
  {
   "cell_type": "code",
   "execution_count": 46,
   "metadata": {},
   "outputs": [],
   "source": [
    "def normalize(x, y):\n",
    "    mean_x, mean_y = np.mean(x), np.mean(y)\n",
    "    std_x, std_y = np.std(x), np.std(y)\n",
    "    return (x - mean_x)/std_x, (y - mean_y)/std_y, mean_x, mean_y, std_x, std_y\n",
    "def inverse_normalize(m, b, mean_x, mean_y, std_x, std_y):\n",
    "    return m * std_y / std_x, mean_y - m * mean_x * std_y / std_x + std_y * b"
   ]
  },
  {
   "cell_type": "markdown",
   "metadata": {},
   "source": [
    "Now, let's loop over the interview's dataset, in which in each iteration we\n",
    "normalize the current data row, fit the neural net, transform the fitted weights\n",
    "onto the original data space, and save them in lists."
   ]
  },
  {
   "cell_type": "code",
   "execution_count": 12,
   "metadata": {},
   "outputs": [
    {
     "name": "stderr",
     "output_type": "stream",
     "text": [
      "100%|██████████| 100000/100000 [3:39:41<00:00,  7.59it/s] \n"
     ]
    }
   ],
   "source": [
    "slope_pred = []\n",
    "intercept_pred = []\n",
    "for i in tqdm(range(len(df))):\n",
    "    df_row = df[df.id == i]\n",
    "    x, y = [], []\n",
    "    for col in df.columns:\n",
    "        if col.startswith('x'):\n",
    "            x.append(float(df_row[col]))\n",
    "        if col.startswith('y'):\n",
    "            y.append(float(df_row[col]))\n",
    "    x = np.asarray(x)\n",
    "    y = np.asarray(y)\n",
    "    xnorm, ynorm, mean_x, mean_y, std_x, std_y = normalize(x, y)\n",
    "    m, b = linear_nn.fit(xnorm, ynorm, verbose=0)\n",
    "    m_pred, b_pred = inverse_normalize(m, b, mean_x, mean_y, std_x, std_y)\n",
    "    slope_pred.append(m_pred)\n",
    "    intercept_pred.append(b_pred)"
   ]
  },
  {
   "cell_type": "code",
   "execution_count": 40,
   "metadata": {},
   "outputs": [],
   "source": [
    "from collections import OrderedDict"
   ]
  },
  {
   "cell_type": "code",
   "execution_count": 41,
   "metadata": {},
   "outputs": [],
   "source": [
    "pred_dict = OrderedDict({'id': list(range(0, len(df))), 'slope': slope_pred, 'intercept': intercept_pred})"
   ]
  },
  {
   "cell_type": "code",
   "execution_count": 42,
   "metadata": {},
   "outputs": [],
   "source": [
    "pred_df = pd.DataFrame.from_dict(pred_dict)"
   ]
  },
  {
   "cell_type": "code",
   "execution_count": 43,
   "metadata": {},
   "outputs": [],
   "source": [
    "pred_df.to_csv('pred.csv', index=False)"
   ]
  },
  {
   "cell_type": "markdown",
   "metadata": {},
   "source": [
    "Running the ``evaluate.py`` script to evaluate our neural net performance, ``python evaluate.py train_100k.truth.csv pred.csv``, we get the following results:"
   ]
  },
  {
   "cell_type": "markdown",
   "metadata": {},
   "source": [
    "$$ \\text{Slope mse}: 0.0128555678847, ~~\\text{Intercept mae}: 4.24232329667 $$"
   ]
  },
  {
   "cell_type": "code",
   "execution_count": null,
   "metadata": {},
   "outputs": [],
   "source": []
  }
 ],
 "metadata": {
  "kernelspec": {
   "display_name": "Python 3",
   "language": "python",
   "name": "python3"
  },
  "language_info": {
   "codemirror_mode": {
    "name": "ipython",
    "version": 3
   },
   "file_extension": ".py",
   "mimetype": "text/x-python",
   "name": "python",
   "nbconvert_exporter": "python",
   "pygments_lexer": "ipython3",
   "version": "3.6.5"
  }
 },
 "nbformat": 4,
 "nbformat_minor": 2
}
